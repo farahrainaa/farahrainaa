{
  "nbformat": 4,
  "nbformat_minor": 0,
  "metadata": {
    "colab": {
      "provenance": [],
      "include_colab_link": true
    },
    "kernelspec": {
      "name": "python3",
      "display_name": "Python 3"
    },
    "language_info": {
      "name": "python"
    }
  },
  "cells": [
    {
      "cell_type": "markdown",
      "metadata": {
        "id": "view-in-github",
        "colab_type": "text"
      },
      "source": [
        "<a href=\"https://colab.research.google.com/github/farahrainaa/farahrainaa/blob/main/2023F_Kelompok_12.ipynb\" target=\"_parent\"><img src=\"https://colab.research.google.com/assets/colab-badge.svg\" alt=\"Open In Colab\"/></a>"
      ]
    },
    {
      "cell_type": "markdown",
      "source": [
        "**Kelompok 12**\n",
        "\n",
        "Anggota:\n",
        "1. Farah Raina Febiana (23031554132)\n",
        "2. Reva Deshinta Isyana (23031554153)\n",
        "3. Nurul Faridah (23031554123)"
      ],
      "metadata": {
        "id": "AaGOcsvCU_Ei"
      }
    },
    {
      "cell_type": "code",
      "execution_count": 1,
      "metadata": {
        "colab": {
          "base_uri": "https://localhost:8080/"
        },
        "id": "04HeSWUeUaGd",
        "outputId": "08bb14c2-5062-46df-c766-e515b01290ca"
      },
      "outputs": [
        {
          "output_type": "stream",
          "name": "stdout",
          "text": [
            "Collecting ucimlrepo\n",
            "  Downloading ucimlrepo-0.0.7-py3-none-any.whl.metadata (5.5 kB)\n",
            "Requirement already satisfied: pandas>=1.0.0 in /usr/local/lib/python3.11/dist-packages (from ucimlrepo) (2.2.2)\n",
            "Requirement already satisfied: certifi>=2020.12.5 in /usr/local/lib/python3.11/dist-packages (from ucimlrepo) (2025.1.31)\n",
            "Requirement already satisfied: numpy>=1.23.2 in /usr/local/lib/python3.11/dist-packages (from pandas>=1.0.0->ucimlrepo) (1.26.4)\n",
            "Requirement already satisfied: python-dateutil>=2.8.2 in /usr/local/lib/python3.11/dist-packages (from pandas>=1.0.0->ucimlrepo) (2.8.2)\n",
            "Requirement already satisfied: pytz>=2020.1 in /usr/local/lib/python3.11/dist-packages (from pandas>=1.0.0->ucimlrepo) (2025.1)\n",
            "Requirement already satisfied: tzdata>=2022.7 in /usr/local/lib/python3.11/dist-packages (from pandas>=1.0.0->ucimlrepo) (2025.1)\n",
            "Requirement already satisfied: six>=1.5 in /usr/local/lib/python3.11/dist-packages (from python-dateutil>=2.8.2->pandas>=1.0.0->ucimlrepo) (1.17.0)\n",
            "Downloading ucimlrepo-0.0.7-py3-none-any.whl (8.0 kB)\n",
            "Installing collected packages: ucimlrepo\n",
            "Successfully installed ucimlrepo-0.0.7\n"
          ]
        }
      ],
      "source": [
        "!pip install ucimlrepo"
      ]
    },
    {
      "cell_type": "code",
      "source": [
        "from ucimlrepo import fetch_ucirepo\n",
        "\n",
        "# fetch dataset\n",
        "support2 = fetch_ucirepo(id=880)\n",
        "\n",
        "# data (as pandas dataframes)\n",
        "X = support2.data.features\n",
        "y = support2.data.targets\n",
        "\n",
        "# metadata\n",
        "print(support2.metadata)\n",
        "\n",
        "# variable information\n",
        "print(support2.variables)"
      ],
      "metadata": {
        "colab": {
          "base_uri": "https://localhost:8080/"
        },
        "id": "DWo8u8RjVm4B",
        "outputId": "35fd5597-bd34-494e-c38c-b12f283079fb"
      },
      "execution_count": 2,
      "outputs": [
        {
          "output_type": "stream",
          "name": "stdout",
          "text": [
            "{'uci_id': 880, 'name': 'SUPPORT2', 'repository_url': 'https://archive.ics.uci.edu/dataset/880/support2', 'data_url': 'https://archive.ics.uci.edu/static/public/880/data.csv', 'abstract': \"This dataset comprises 9105 individual critically ill patients across 5 United States medical centers, accessioned throughout 1989-1991 and 1992-1994.\\nEach row concerns hospitalized patient records who met the inclusion and exclusion criteria for nine disease categories: acute respiratory failure, chronic obstructive pulmonary disease, congestive heart failure, liver disease, coma, colon cancer, lung cancer, multiple organ system failure with malignancy, and multiple organ system failure with sepsis. The goal is to determine these patients' 2- and 6-month survival rates based on several physiologic, demographics, and disease severity information. \\nIt is an important problem because it addresses the growing national concern over patients' loss of control near the end of life. It enables earlier decisions and planning to reduce the frequency of a mechanical, painful, and prolonged dying process.\", 'area': 'Health and Medicine', 'tasks': ['Classification', 'Regression', 'Other'], 'characteristics': ['Tabular', 'Multivariate'], 'num_instances': 9105, 'num_features': 42, 'feature_types': ['Real', 'Categorical', 'Integer'], 'demographics': ['Age', 'Sex', 'Education Level', 'Income', 'Race'], 'target_col': ['death', 'hospdead', 'sfdm2'], 'index_col': ['id'], 'has_missing_values': 'yes', 'missing_values_symbol': 'NaN', 'year_of_dataset_creation': 1995, 'last_updated': 'Mon Sep 09 2024', 'dataset_doi': '10.3886/ICPSR02957.v2', 'creators': ['Frank Harrel'], 'intro_paper': {'ID': 298, 'type': 'NATIVE', 'title': 'A controlled trial to improve care for seriously ill hospitalized patients. The study to understand prognoses and preferences for outcomes and risks of treatments (SUPPORT)', 'authors': 'The SUPPORT Principal Investigators', 'venue': 'In the Journal of the American Medical Association, 274(20):1591–1598', 'year': 1995, 'journal': None, 'DOI': None, 'URL': 'https://pubmed.ncbi.nlm.nih.gov/7474243/', 'sha': None, 'corpus': None, 'arxiv': None, 'mag': None, 'acl': None, 'pmid': None, 'pmcid': None}, 'additional_info': {'summary': \"Data sources are medical records, personal interviews, and the National Death Index (NDI). For each patient administrative records data, clinical data and survey data were collected.\\nThe objective of the SUPPORT project was to improve decision-making in order to address the growing national concern over the loss of control that patients have near the end of life and to reduce the frequency of a mechanical, painful, and prolonged process of dying. SUPPORT comprised a two-year prospective observational study (Phase I) followed by a two-year controlled clinical trial (Phase II). Phase I of SUPPORT collected data from patients accessioned during 1989-1991 to characterize the care, treatment preferences, and patterns of decision-making among critically ill patients. It also served as a preliminary step for devising an intervention strategy for improving critically-ill patients' care and for the construction of statistical models for predicting patient prognosis and functional status. An intervention was implemented in Phase II of SUPPORT, which accessioned patients during 1992-1994. The Phase II intervention provided physicians with accurate predictive information on future functional ability, survival probability to six months, and patients' preferences for end-of-life care. Additionally, a skilled nurse was provided as part of the intervention to elicit patient preferences, provide prognoses, enhance understanding, enable palliative care, and facilitate advance planning. The intervention was expected to increase communication, resulting in earlier decisions to have orders against resuscitation, decrease time that patients spent in undesirable states (e.g., in the Intensive Care Unit, on a ventilator, and in a coma), increase physician understanding of patients' preferences for care, decrease patient pain, and decrease hospital resource use. Data collection in both phases of SUPPORT consisted of questionnaires administered to patients, their surrogates, and physicians, plus chart reviews for abstracting clinical, treatment, and decision information. Phase II also collected information regarding the implementation of the intervention, such as patient-specific logs maintained by nurses assigned to patients as part of the intervention. SUPPORT patients were followed for six months after inclusion in the study. Those who did not die within six months or were lost to follow-up were matched against the National Death Index to identify deaths through 1997. Patients who did not die within one year or were lost to follow-up were matched against the National Death Index to identify deaths through 1997.\\nAll patients in five United States medical centers who met inclusion and exclusion criteria for nine disease categories: acute respiratory failure, chronic obstructive pulmonary disease, congestive heart failure, liver disease, coma, colon cancer, lung cancer, multiple organ system failure with malignancy, and multiple organ system failure with sepsis. SUPPORT is a combination of patients from 2 studies, each of which lasted 2 years. The first phase concerns 4,301 patients, whereas the second phase concerns 4,804 patients. Time wise, these studies were accessioned in 1989 (June 12) through 1991 (June 11) for phase I and in 1992 (January 7) through 1994 (January 24).\", 'purpose': \"To develop and validate a prognostic model that estimates survival over a 180-day period for seriously ill hospitalized adults (phase I of SUPPORT) and to compare this model's predictions with those of an existing prognostic system and with physicians' independent estimates (SUPPORT phase II).\", 'funded_by': 'Funded by the Robert Wood Johnson Foundation\\n', 'instances_represent': 'The instances represent records of critically ill patients admitted to United States hospitals with advanced stages of serious illness.\\n', 'recommended_data_splits': 'No recommendation, standard train-test split could be used. Can use three-way holdout split (i.e., train-validation-test) when doing model selection.', 'sensitive_data': 'Yes. There is information about race, gender, income, and education level.', 'preprocessing_description': 'No.  Due to the high percentage of missing values, there are a couple of recommended imputation values:\\nAccording to the HBiostat Repository (https://hbiostat.org/data/repo/supportdesc, Professor Frank Harrell) the following default values have been found to be useful in imputing missing baseline physiologic data:\\nBaseline Variable\\tNormal Fill-in Value\\n- Serum albumin (alb)\\t3.5\\n- PaO2/FiO2 ratio (pafi) \\t333.3\\n- Bilirubin (bili)\\t1.01\\n- Creatinine (crea)\\t1.01\\n- bun\\t6.51\\n- White blood count (wblc)\\t9 (thousands)\\n- Urine output (urine)\\t2502\\nThere are 159 patients surviving 2 months for whom there were no patient or surrogate interviews. These patients have missing sfdm2.', 'variable_info': None, 'citation': 'Please acknowledge the source of this dataset as being from Vanderbilt University Department of Biostatistics, Professor Frank Harrell 2022, url: https://hbiostat.org/data/'}, 'external_url': 'https://hbiostat.org/data'}\n",
            "        name     role         type      demographic  \\\n",
            "0         id       ID      Integer             None   \n",
            "1        age  Feature   Continuous              Age   \n",
            "2      death   Target   Continuous             None   \n",
            "3        sex  Feature  Categorical              Sex   \n",
            "4   hospdead   Target       Binary             None   \n",
            "5       slos    Other   Continuous             None   \n",
            "6     d.time    Other   Continuous             None   \n",
            "7    dzgroup  Feature  Categorical             None   \n",
            "8    dzclass  Feature  Categorical             None   \n",
            "9     num.co  Feature   Continuous             None   \n",
            "10       edu  Feature  Categorical  Education Level   \n",
            "11    income  Feature  Categorical           Income   \n",
            "12     scoma  Feature   Continuous             None   \n",
            "13   charges  Feature   Continuous             None   \n",
            "14    totcst  Feature   Continuous             None   \n",
            "15   totmcst  Feature   Continuous             None   \n",
            "16   avtisst  Feature   Continuous             None   \n",
            "17      race  Feature  Categorical             Race   \n",
            "18       sps  Feature   Continuous             None   \n",
            "19       aps  Feature   Continuous             None   \n",
            "20    surv2m  Feature   Continuous             None   \n",
            "21    surv6m  Feature   Continuous             None   \n",
            "22      hday  Feature      Integer             None   \n",
            "23  diabetes  Feature   Continuous             None   \n",
            "24  dementia  Feature   Continuous             None   \n",
            "25        ca  Feature  Categorical             None   \n",
            "26     prg2m  Feature   Continuous             None   \n",
            "27     prg6m  Feature  Categorical             None   \n",
            "28       dnr  Feature  Categorical             None   \n",
            "29    dnrday  Feature   Continuous             None   \n",
            "30    meanbp  Feature   Continuous             None   \n",
            "31      wblc  Feature   Continuous             None   \n",
            "32       hrt  Feature   Continuous             None   \n",
            "33      resp  Feature   Continuous             None   \n",
            "34      temp  Feature   Continuous             None   \n",
            "35      pafi  Feature   Continuous             None   \n",
            "36       alb  Feature   Continuous             None   \n",
            "37      bili  Feature   Continuous             None   \n",
            "38      crea  Feature   Continuous             None   \n",
            "39       sod  Feature   Continuous             None   \n",
            "40        ph  Feature   Continuous             None   \n",
            "41   glucose  Feature      Integer             None   \n",
            "42       bun  Feature      Integer             None   \n",
            "43     urine  Feature      Integer             None   \n",
            "44      adlp  Feature  Categorical             None   \n",
            "45      adls  Feature   Continuous             None   \n",
            "46     sfdm2   Target  Categorical             None   \n",
            "47     adlsc  Feature   Continuous             None   \n",
            "\n",
            "                                          description  units missing_values  \n",
            "0                                                None   None             no  \n",
            "1                        Age of the patients in years  years             no  \n",
            "2   Death at any time up to National Death Index (...   None             no  \n",
            "3   Gender of the patient. Listed values are {male...   None             no  \n",
            "4                                   Death in hospital   None             no  \n",
            "5                  Days from Study Entry to Discharge   None             no  \n",
            "6                                   Days of follow-up   None             no  \n",
            "7   The patient's disease sub category amogst ARF/...   None             no  \n",
            "8   The patient's disease category amongst \"ARF/MO...   None             no  \n",
            "9   The number of simultaneous diseases (or comorb...   None             no  \n",
            "10                                 Years of education  years            yes  \n",
            "11  Income of the patient. Listed values are {\"$11...   None            yes  \n",
            "12  SUPPORT day 3 Coma Score based on Glasgow scal...   None            yes  \n",
            "13                                   Hospital charges   None            yes  \n",
            "14         Total ratio of costs to charges (RCC) cost   None            yes  \n",
            "15                                   Total micro cost   None            yes  \n",
            "16  Average TISS score, days 3-25, where Therapeut...   None            yes  \n",
            "17  Race of the patient. Listed values are {asian,...   None            yes  \n",
            "18  SUPPORT physiology score on day 3 (predicted b...   None            yes  \n",
            "19  APACHE III day 3 physiology score (no coma, im...   None            yes  \n",
            "20  SUPPORT model 2-month survival estimate at day...   None            yes  \n",
            "21  SUPPORT model 6-month survival estimate at day...   None            yes  \n",
            "22    Day in hospital at which patient entered study.   None             no  \n",
            "23  Whether the patient exhibits diabetes (Com 27-...   None             no  \n",
            "24  Whether the patient exhibits dementia (Comorbi...   None             no  \n",
            "25  Whether the patient has cancer (yes), whether ...   None             no  \n",
            "26  Physician’s 2-month survival estimate for pati...   None            yes  \n",
            "27  Physician’s 6-month survival estimate for pati...   None            yes  \n",
            "28  Whether the patient has a do not rescuscitate ...   None            yes  \n",
            "29              Day of DNR order (<0 if before study)   None            yes  \n",
            "30  mean arterial blood pressure of the patient, m...   None            yes  \n",
            "31  counts of white blood cells (in thousands) mea...   None            yes  \n",
            "32       heart rate of the patient measured at day 3.   None            yes  \n",
            "33  respiration rate of the patient measured at da...   None            yes  \n",
            "34  temperature in Celsius degrees measured at day 3.   None             no  \n",
            "35  $PaO_2/FiO_2$ ratio measured at day 3. The rat...   None            yes  \n",
            "36            serum albumin levels measured at day 3.   None            yes  \n",
            "37                bilirubin levels measured at day 3.   None            yes  \n",
            "38         serum creatinine levels measured at day 3.   None            yes  \n",
            "39      serum sodium concentration measured at day 3.   None            yes  \n",
            "40  Arterial blood pH. The pH of blood is usually ...   None            yes  \n",
            "41                  Glucose levels measured at day 3.   None            yes  \n",
            "42      Blood urea nitrogen levels measured at day 3.   None            yes  \n",
            "43                    Urine output measured at day 3.   None            yes  \n",
            "44  Index of Activities of Daily Living (ADL) of t...   None            yes  \n",
            "45  Index of Activities of Daily Living (ADL) of t...   None            yes  \n",
            "46  Level of functional disability of the patient ...   None            yes  \n",
            "47               Imputed ADL Calibrated to Surrogate.   None             no  \n"
          ]
        }
      ]
    },
    {
      "cell_type": "code",
      "source": [
        "import pandas as pd\n",
        "\n",
        "# Gabungkan X dan y menjadi satu DataFrame\n",
        "data = pd.concat([X, y], axis=1)\n",
        "\n",
        "# Simpan dataset gabungan ke CSV\n",
        "data.to_csv(\"support2_dataset.csv\", index=False)"
      ],
      "metadata": {
        "id": "aDnWG8fiW-OG"
      },
      "execution_count": 3,
      "outputs": []
    },
    {
      "cell_type": "code",
      "source": [
        "file_path = \"support2_dataset.csv\"\n",
        "df = pd.read_csv(file_path)"
      ],
      "metadata": {
        "id": "3LJFGmuoXOsC"
      },
      "execution_count": 4,
      "outputs": []
    },
    {
      "cell_type": "code",
      "source": [
        "df.info()"
      ],
      "metadata": {
        "colab": {
          "base_uri": "https://localhost:8080/"
        },
        "id": "3XNGrm-8XgCz",
        "outputId": "3c922442-39a0-49a5-da7d-8247f7886962"
      },
      "execution_count": 5,
      "outputs": [
        {
          "output_type": "stream",
          "name": "stdout",
          "text": [
            "<class 'pandas.core.frame.DataFrame'>\n",
            "RangeIndex: 9105 entries, 0 to 9104\n",
            "Data columns (total 45 columns):\n",
            " #   Column    Non-Null Count  Dtype  \n",
            "---  ------    --------------  -----  \n",
            " 0   age       9105 non-null   float64\n",
            " 1   sex       9105 non-null   object \n",
            " 2   dzgroup   9105 non-null   object \n",
            " 3   dzclass   9105 non-null   object \n",
            " 4   num.co    9105 non-null   int64  \n",
            " 5   edu       7471 non-null   float64\n",
            " 6   income    6123 non-null   object \n",
            " 7   scoma     9104 non-null   float64\n",
            " 8   charges   8933 non-null   float64\n",
            " 9   totcst    8217 non-null   float64\n",
            " 10  totmcst   5630 non-null   float64\n",
            " 11  avtisst   9023 non-null   float64\n",
            " 12  race      9063 non-null   object \n",
            " 13  sps       9104 non-null   float64\n",
            " 14  aps       9104 non-null   float64\n",
            " 15  surv2m    9104 non-null   float64\n",
            " 16  surv6m    9104 non-null   float64\n",
            " 17  hday      9105 non-null   int64  \n",
            " 18  diabetes  9105 non-null   int64  \n",
            " 19  dementia  9105 non-null   int64  \n",
            " 20  ca        9105 non-null   object \n",
            " 21  prg2m     7456 non-null   float64\n",
            " 22  prg6m     7472 non-null   float64\n",
            " 23  dnr       9075 non-null   object \n",
            " 24  dnrday    9075 non-null   float64\n",
            " 25  meanbp    9104 non-null   float64\n",
            " 26  wblc      8893 non-null   float64\n",
            " 27  hrt       9104 non-null   float64\n",
            " 28  resp      9104 non-null   float64\n",
            " 29  temp      9104 non-null   float64\n",
            " 30  pafi      6780 non-null   float64\n",
            " 31  alb       5733 non-null   float64\n",
            " 32  bili      6504 non-null   float64\n",
            " 33  crea      9038 non-null   float64\n",
            " 34  sod       9104 non-null   float64\n",
            " 35  ph        6821 non-null   float64\n",
            " 36  glucose   4605 non-null   float64\n",
            " 37  bun       4753 non-null   float64\n",
            " 38  urine     4243 non-null   float64\n",
            " 39  adlp      3464 non-null   float64\n",
            " 40  adls      6238 non-null   float64\n",
            " 41  adlsc     9105 non-null   float64\n",
            " 42  death     9105 non-null   int64  \n",
            " 43  hospdead  9105 non-null   int64  \n",
            " 44  sfdm2     7705 non-null   object \n",
            "dtypes: float64(31), int64(6), object(8)\n",
            "memory usage: 3.1+ MB\n"
          ]
        }
      ]
    },
    {
      "cell_type": "markdown",
      "source": [
        "# DATA CLEANING"
      ],
      "metadata": {
        "id": "1bdgmyqVbqh4"
      }
    },
    {
      "cell_type": "markdown",
      "source": [
        "Visualisasi missing values sebelum cleaning"
      ],
      "metadata": {
        "id": "5hDtfMYNyD--"
      }
    },
    {
      "cell_type": "code",
      "source": [
        "import missingno as msno\n",
        "import seaborn as sns\n",
        "import matplotlib.pyplot as plt\n",
        "\n",
        "# Barplot jumlah missing values per kolom\n",
        "missing_counts = df.isnull().sum()\n",
        "missing_counts = missing_counts[missing_counts > 0]  # Hanya tampilkan kolom yang ada missing\n",
        "missing_counts.sort_values(inplace=True)\n",
        "\n",
        "plt.figure(figsize=(10, 5))\n",
        "missing_counts.plot(kind=\"barh\", color=\"salmon\")\n",
        "plt.xlabel(\"Jumlah Missing Values\")\n",
        "plt.ylabel(\"Kolom\")\n",
        "plt.title(\"Jumlah Missing Values per Kolom\")\n",
        "plt.show()"
      ],
      "metadata": {
        "colab": {
          "base_uri": "https://localhost:8080/",
          "height": 0
        },
        "id": "VK6EoUdVn1qO",
        "outputId": "ec6aba14-ec6f-4234-b745-c52e7b546e17"
      },
      "execution_count": 6,
      "outputs": [
        {
          "output_type": "display_data",
          "data": {
            "text/plain": [
              "<Figure size 1000x500 with 1 Axes>"
            ],
            "image/png": "[encoded data removed]"
          },
          "metadata": {}
        }
      ]
    },
    {
      "cell_type": "markdown",
      "source": [
        "**HANDLING MISSING VALUES**"
      ],
      "metadata": {
        "id": "0XYStbjsjnVl"
      }
    },
    {
      "cell_type": "markdown",
      "source": [
        "Mengecek duplikasi dalam dataset, jika ada yang sama akan didrop"
      ],
      "metadata": {
        "id": "hkOBLkFGYGCJ"
      }
    },
    {
      "cell_type": "code",
      "source": [
        "duplicate_rows = df.duplicated().sum()\n",
        "duplicate_rows"
      ],
      "metadata": {
        "colab": {
          "base_uri": "https://localhost:8080/"
        },
        "id": "EJ6HNx8HXmo7",
        "outputId": "91fc3dd3-788a-431c-b4f2-8e6f90b16a58"
      },
      "execution_count": 7,
      "outputs": [
        {
          "output_type": "execute_result",
          "data": {
            "text/plain": [
              "0"
            ]
          },
          "metadata": {},
          "execution_count": 7
        }
      ]
    },
    {
      "cell_type": "markdown",
      "source": [
        "Mengecek jumlah missing values per kolom"
      ],
      "metadata": {
        "id": "1qQHWoqFX9u9"
      }
    },
    {
      "cell_type": "code",
      "source": [
        "missing_values = df.isnull().sum()\n",
        "missing_values[missing_values > 0]"
      ],
      "metadata": {
        "colab": {
          "base_uri": "https://localhost:8080/",
          "height": 0
        },
        "id": "O3T9-qBLXrdq",
        "outputId": "8cdbe400-ab5f-4ef6-d118-dd4de73c41be"
      },
      "execution_count": 8,
      "outputs": [
        {
          "output_type": "execute_result",
          "data": {
            "text/plain": [
              "edu        1634\n",
              "income     2982\n",
              "scoma         1\n",
              "charges     172\n",
              "totcst      888\n",
              "totmcst    3475\n",
              "avtisst      82\n",
              "race         42\n",
              "sps           1\n",
              "aps           1\n",
              "surv2m        1\n",
              "surv6m        1\n",
              "prg2m      1649\n",
              "prg6m      1633\n",
              "dnr          30\n",
              "dnrday       30\n",
              "meanbp        1\n",
              "wblc        212\n",
              "hrt           1\n",
              "resp          1\n",
              "temp          1\n",
              "pafi       2325\n",
              "alb        3372\n",
              "bili       2601\n",
              "crea         67\n",
              "sod           1\n",
              "ph         2284\n",
              "glucose    4500\n",
              "bun        4352\n",
              "urine      4862\n",
              "adlp       5641\n",
              "adls       2867\n",
              "sfdm2      1400\n",
              "dtype: int64"
            ],
            "text/html": [
              "<div>\n",
              "<style scoped>\n",
              "    .dataframe tbody tr th:only-of-type {\n",
              "        vertical-align: middle;\n",
              "    }\n",
              "\n",
              "    .dataframe tbody tr th {\n",
              "        vertical-align: top;\n",
              "    }\n",
              "\n",
              "    .dataframe thead th {\n",
              "        text-align: right;\n",
              "    }\n",
              "</style>\n",
              "<table border=\"1\" class=\"dataframe\">\n",
              "  <thead>\n",
              "    <tr style=\"text-align: right;\">\n",
              "      <th></th>\n",
              "      <th>0</th>\n",
              "    </tr>\n",
              "  </thead>\n",
              "  <tbody>\n",
              "    <tr>\n",
              "      <th>edu</th>\n",
              "      <td>1634</td>\n",
              "    </tr>\n",
              "    <tr>\n",
              "      <th>income</th>\n",
              "      <td>2982</td>\n",
              "    </tr>\n",
              "    <tr>\n",
              "      <th>scoma</th>\n",
              "      <td>1</td>\n",
              "    </tr>\n",
              "    <tr>\n",
              "      <th>charges</th>\n",
              "      <td>172</td>\n",
              "    </tr>\n",
              "    <tr>\n",
              "      <th>totcst</th>\n",
              "      <td>888</td>\n",
              "    </tr>\n",
              "    <tr>\n",
              "      <th>totmcst</th>\n",
              "      <td>3475</td>\n",
              "    </tr>\n",
              "    <tr>\n",
              "      <th>avtisst</th>\n",
              "      <td>82</td>\n",
              "    </tr>\n",
              "    <tr>\n",
              "      <th>race</th>\n",
              "      <td>42</td>\n",
              "    </tr>\n",
              "    <tr>\n",
              "      <th>sps</th>\n",
              "      <td>1</td>\n",
              "    </tr>\n",
              "    <tr>\n",
              "      <th>aps</th>\n",
              "      <td>1</td>\n",
              "    </tr>\n",
              "    <tr>\n",
              "      <th>surv2m</th>\n",
              "      <td>1</td>\n",
              "    </tr>\n",
              "    <tr>\n",
              "      <th>surv6m</th>\n",
              "      <td>1</td>\n",
              "    </tr>\n",
              "    <tr>\n",
              "      <th>prg2m</th>\n",
              "      <td>1649</td>\n",
              "    </tr>\n",
              "    <tr>\n",
              "      <th>prg6m</th>\n",
              "      <td>1633</td>\n",
              "    </tr>\n",
              "    <tr>\n",
              "      <th>dnr</th>\n",
              "      <td>30</td>\n",
              "    </tr>\n",
              "    <tr>\n",
              "      <th>dnrday</th>\n",
              "      <td>30</td>\n",
              "    </tr>\n",
              "    <tr>\n",
              "      <th>meanbp</th>\n",
              "      <td>1</td>\n",
              "    </tr>\n",
              "    <tr>\n",
              "      <th>wblc</th>\n",
              "      <td>212</td>\n",
              "    </tr>\n",
              "    <tr>\n",
              "      <th>hrt</th>\n",
              "      <td>1</td>\n",
              "    </tr>\n",
              "    <tr>\n",
              "      <th>resp</th>\n",
              "      <td>1</td>\n",
              "    </tr>\n",
              "    <tr>\n",
              "      <th>temp</th>\n",
              "      <td>1</td>\n",
              "    </tr>\n",
              "    <tr>\n",
              "      <th>pafi</th>\n",
              "      <td>2325</td>\n",
              "    </tr>\n",
              "    <tr>\n",
              "      <th>alb</th>\n",
              "      <td>3372</td>\n",
              "    </tr>\n",
              "    <tr>\n",
              "      <th>bili</th>\n",
              "      <td>2601</td>\n",
              "    </tr>\n",
              "    <tr>\n",
              "      <th>crea</th>\n",
              "      <td>67</td>\n",
              "    </tr>\n",
              "    <tr>\n",
              "      <th>sod</th>\n",
              "      <td>1</td>\n",
              "    </tr>\n",
              "    <tr>\n",
              "      <th>ph</th>\n",
              "      <td>2284</td>\n",
              "    </tr>\n",
              "    <tr>\n",
              "      <th>glucose</th>\n",
              "      <td>4500</td>\n",
              "    </tr>\n",
              "    <tr>\n",
              "      <th>bun</th>\n",
              "      <td>4352</td>\n",
              "    </tr>\n",
              "    <tr>\n",
              "      <th>urine</th>\n",
              "      <td>4862</td>\n",
              "    </tr>\n",
              "    <tr>\n",
              "      <th>adlp</th>\n",
              "      <td>5641</td>\n",
              "    </tr>\n",
              "    <tr>\n",
              "      <th>adls</th>\n",
              "      <td>2867</td>\n",
              "    </tr>\n",
              "    <tr>\n",
              "      <th>sfdm2</th>\n",
              "      <td>1400</td>\n",
              "    </tr>\n",
              "  </tbody>\n",
              "</table>\n",
              "</div><br><label><b>dtype:</b> int64</label>"
            ]
          },
          "metadata": {},
          "execution_count": 8
        }
      ]
    },
    {
      "cell_type": "markdown",
      "source": [
        "Drop kolom glucose, urine, alb, totmcst, adlp karena terlalu banyak missing values (> 40% missing) serta tidak terlalu berpengaruh ke target"
      ],
      "metadata": {
        "id": "q5zNJ06FX3cB"
      }
    },
    {
      "cell_type": "code",
      "source": [
        "columns_to_drop = [\"glucose\", \"urine\", \"alb\", \"totmcst\", \"adlp\"]\n",
        "df_cleaned = df.drop(columns=columns_to_drop)"
      ],
      "metadata": {
        "id": "0QgAD_BkX01H"
      },
      "execution_count": 9,
      "outputs": []
    },
    {
      "cell_type": "markdown",
      "source": [
        "Imputasi data numerik dengan median karena lebih robust terhadap outlier"
      ],
      "metadata": {
        "id": "Y-6Qjv6IZIbC"
      }
    },
    {
      "cell_type": "code",
      "source": [
        "num_cols = df_cleaned.select_dtypes(include=['float64', 'int64']).columns\n",
        "df_cleaned[num_cols] = df_cleaned[num_cols].apply(lambda x: x.fillna(x.median()))"
      ],
      "metadata": {
        "id": "-K1E4qkZZkLm"
      },
      "execution_count": 10,
      "outputs": []
    },
    {
      "cell_type": "markdown",
      "source": [
        "Imputasi data kategorikal dengan modus"
      ],
      "metadata": {
        "id": "wSmOlBWAaOOl"
      }
    },
    {
      "cell_type": "code",
      "source": [
        "cat_cols = df_cleaned.select_dtypes(include=['object']).columns\n",
        "df_cleaned[cat_cols] = df_cleaned[cat_cols].apply(lambda x: x.fillna(x.mode()[0]))"
      ],
      "metadata": {
        "id": "zvj7u62kZSyc"
      },
      "execution_count": 11,
      "outputs": []
    },
    {
      "cell_type": "markdown",
      "source": [
        "Mengecek apakah masih ada missing values"
      ],
      "metadata": {
        "id": "OV1gB4vWYTuq"
      }
    },
    {
      "cell_type": "code",
      "source": [
        "df_cleaned.isnull().sum().sum()"
      ],
      "metadata": {
        "colab": {
          "base_uri": "https://localhost:8080/"
        },
        "id": "L3I9wKp9YP5g",
        "outputId": "b559af80-a753-4313-a059-8861d876cd3c"
      },
      "execution_count": 12,
      "outputs": [
        {
          "output_type": "execute_result",
          "data": {
            "text/plain": [
              "0"
            ]
          },
          "metadata": {},
          "execution_count": 12
        }
      ]
    },
    {
      "cell_type": "markdown",
      "source": [
        "Visualisasi missing values dengan Pie Chart"
      ],
      "metadata": {
        "id": "rUpIrokDrXmF"
      }
    },
    {
      "cell_type": "code",
      "source": [
        "import matplotlib.pyplot as plt\n",
        "\n",
        "missing_values = df_cleaned.isnull().sum()\n",
        "missing_values = missing_values[missing_values > 0]\n",
        "\n",
        "if not missing_values.empty:\n",
        "    plt.figure(figsize=(8, 8))\n",
        "    plt.pie(missing_values, labels=missing_values.index, autopct='%1.1f%%', startangle=140, colors=plt.cm.Paired.colors)\n",
        "    plt.title(\"Proporsi Missing Values Setelah Cleaning\")\n",
        "    plt.show()\n",
        "else:\n",
        "    print(\"Tidak ada missing values setelah data cleaning!\")"
      ],
      "metadata": {
        "colab": {
          "base_uri": "https://localhost:8080/"
        },
        "id": "f46RJJxNrP2x",
        "outputId": "261f0117-e457-4684-8482-790b660b072d"
      },
      "execution_count": 13,
      "outputs": [
        {
          "output_type": "stream",
          "name": "stdout",
          "text": [
            "Tidak ada missing values setelah data cleaning!\n"
          ]
        }
      ]
    },
    {
      "cell_type": "markdown",
      "source": [
        "**HANDLING NOISY DATA**"
      ],
      "metadata": {
        "id": "TuNqm637jSw8"
      }
    },
    {
      "cell_type": "markdown",
      "source": [
        "Menghapus outlier menggunakan metode IQR"
      ],
      "metadata": {
        "id": "lvgTMwl1jf-T"
      }
    },
    {
      "cell_type": "code",
      "source": [
        "import pandas as pd\n",
        "file_path = \"support2_dataset.csv\"\n",
        "df = pd.read_csv(file_path)\n",
        "\n",
        "columns_to_drop = [\"glucose\", \"urine\", \"alb\", \"totmcst\", \"adlp\"]\n",
        "df_cleaned = df.drop(columns=columns_to_drop)\n",
        "num_cols = df_cleaned.select_dtypes(include=['float64', 'int64']).columns\n",
        "Q1 = df_cleaned[num_cols].quantile(0.25)\n",
        "Q3 = df_cleaned[num_cols].quantile(0.75)\n",
        "IQR = Q3 - Q1"
      ],
      "metadata": {
        "id": "N_qi0EUijaA0"
      },
      "execution_count": 14,
      "outputs": []
    },
    {
      "cell_type": "markdown",
      "source": [
        "Filter outlier"
      ],
      "metadata": {
        "id": "lOMlkLxqkiSE"
      }
    },
    {
      "cell_type": "code",
      "source": [
        "df_cleaned = df_cleaned[(df_cleaned[num_cols] >= (Q1 - 1.5 * IQR)) & (df_cleaned[num_cols] <= (Q3 + 1.5 * IQR))]\n",
        "print(f\"Jumlah data setelah menghapus outlier: {df_cleaned.shape}\")"
      ],
      "metadata": {
        "colab": {
          "base_uri": "https://localhost:8080/"
        },
        "id": "iCmYkDXCjv7v",
        "outputId": "12236869-ab6d-4fc7-97b6-26cd47d89cbf"
      },
      "execution_count": 15,
      "outputs": [
        {
          "output_type": "stream",
          "name": "stdout",
          "text": [
            "Jumlah data setelah menghapus outlier: (9105, 40)\n"
          ]
        }
      ]
    },
    {
      "cell_type": "markdown",
      "source": [
        "Normalisasi data kategorikal agar lebih konsisten"
      ],
      "metadata": {
        "id": "ewZAiWcgkrmg"
      }
    },
    {
      "cell_type": "code",
      "source": [
        "cat_cols = df_cleaned.select_dtypes(include=['object']).columns\n",
        "for col in cat_cols:\n",
        "    df_cleaned[col] = df_cleaned[col].str.lower().str.strip()"
      ],
      "metadata": {
        "id": "KZh3IeBrkqCm"
      },
      "execution_count": 16,
      "outputs": []
    },
    {
      "cell_type": "markdown",
      "source": [
        "# DATA REDUCTION"
      ],
      "metadata": {
        "id": "3MnB68webeX6"
      }
    },
    {
      "cell_type": "markdown",
      "source": [
        "Menghitung korelasi antar kolom agar kolom yang mempunyai kolerasi tinggi (>0.9 atau <-0.9) dapat di redudansi"
      ],
      "metadata": {
        "id": "RZtdUG7QcXOE"
      }
    },
    {
      "cell_type": "code",
      "source": [
        "numeric_df = df_cleaned.select_dtypes(include=['float64', 'int64'])\n",
        "correlation_matrix = numeric_df.corr()\n",
        "high_corr_features = set()\n",
        "threshold = 0.9\n",
        "for col in correlation_matrix.columns:\n",
        "    for idx in correlation_matrix.index:\n",
        "        if abs(correlation_matrix.loc[idx, col]) > threshold and col != idx:\n",
        "            high_corr_features.add(col)\n",
        "\n",
        "high_corr_features"
      ],
      "metadata": {
        "colab": {
          "base_uri": "https://localhost:8080/"
        },
        "id": "vNFaOaVbbdki",
        "outputId": "c9996758-072f-4a5f-b893-b0c428a66e69"
      },
      "execution_count": 17,
      "outputs": [
        {
          "output_type": "execute_result",
          "data": {
            "text/plain": [
              "{'adls', 'adlsc', 'charges', 'surv2m', 'surv6m', 'totcst'}"
            ]
          },
          "metadata": {},
          "execution_count": 17
        }
      ]
    },
    {
      "cell_type": "markdown",
      "source": [
        "Menghapus kolom yang redudansi"
      ],
      "metadata": {
        "id": "hOGU-z7wbf17"
      }
    },
    {
      "cell_type": "code",
      "source": [
        "df_reduced = df_cleaned.drop(columns=['surv2m', 'surv6m'])"
      ],
      "metadata": {
        "id": "83SF6uCHbevC"
      },
      "execution_count": 18,
      "outputs": []
    },
    {
      "cell_type": "markdown",
      "source": [
        "Menampilkan jumlah kolom setelah redudansi"
      ],
      "metadata": {
        "id": "mvNoZ_V5c5Ui"
      }
    },
    {
      "cell_type": "code",
      "source": [
        "df_reduced.shape"
      ],
      "metadata": {
        "colab": {
          "base_uri": "https://localhost:8080/"
        },
        "id": "8e03XeEkc8j3",
        "outputId": "c3a166f8-8863-4ff6-8f63-4983dfb47380"
      },
      "execution_count": 19,
      "outputs": [
        {
          "output_type": "execute_result",
          "data": {
            "text/plain": [
              "(9105, 38)"
            ]
          },
          "metadata": {},
          "execution_count": 19
        }
      ]
    },
    {
      "cell_type": "markdown",
      "source": [
        "# DATA TRANSFORMATION"
      ],
      "metadata": {
        "id": "9FzR5mipdy6t"
      }
    },
    {
      "cell_type": "code",
      "source": [
        "from sklearn.preprocessing import LabelEncoder, MinMaxScaler\n",
        "\n",
        "label_encoders = {}\n",
        "for col in df_reduced.select_dtypes(include=['object']).columns:\n",
        "    le = LabelEncoder()\n",
        "    df_reduced[col] = le.fit_transform(df_reduced[col])\n",
        "    label_encoders[col] = le  # Menyimpan encoder untuk referensi\n",
        "\n",
        "scaler = MinMaxScaler()\n",
        "num_cols = df_reduced.select_dtypes(include=['float64', 'int64']).columns\n",
        "df_reduced[num_cols] = scaler.fit_transform(df_reduced[num_cols])\n",
        "df_reduced.head()"
      ],
      "metadata": {
        "colab": {
          "base_uri": "https://localhost:8080/",
          "height": 0
        },
        "id": "AhM4E13qmDii",
        "outputId": "1f5234d8-1639-48bc-f929-9eb299e354e8"
      },
      "execution_count": 20,
      "outputs": [
        {
          "output_type": "execute_result",
          "data": {
            "text/plain": [
              "        age  sex  dzgroup  dzclass    num.co     edu  income  scoma   charges  \\\n",
              "0  0.517656  0.0      0.0      0.0  0.000000  0.4375     0.0    0.0  0.058686   \n",
              "1  0.486599  0.0      0.0      0.0  0.333333  0.5000     0.0    NaN  0.228858   \n",
              "2  0.392698  0.0      0.0      0.0  0.333333  0.5000     0.0    0.0  0.274167   \n",
              "3  0.264536  0.0      0.0      0.0  0.333333  0.4375     0.0    0.0  0.013089   \n",
              "4  0.728352  0.0      0.0      0.0  0.166667     NaN     0.0    NaN  0.336197   \n",
              "\n",
              "   totcst  ...      bili      crea       sod        ph  bun      adls  \\\n",
              "0     NaN  ...  0.026314  0.343758  0.629630  0.600559  NaN  1.000000   \n",
              "1     NaN  ...       NaN       NaN  0.296296  0.000000  NaN  0.142857   \n",
              "2     NaN  ...  0.552570  0.593787  0.370370  0.600559  NaN  0.000000   \n",
              "3     NaN  ...       NaN  0.218743  0.555556       NaN  NaN  0.000000   \n",
              "4     NaN  ...       NaN  0.218743  0.703704  0.743019  NaN  0.285714   \n",
              "\n",
              "      adlsc  death  hospdead  sfdm2  \n",
              "0  0.989645    0.0       0.0    0.0  \n",
              "1  0.141378    1.0       1.0    0.0  \n",
              "2  0.000000    1.0       0.0    0.0  \n",
              "3  0.000000    1.0       0.0    0.0  \n",
              "4  0.282756    0.0       0.0    0.0  \n",
              "\n",
              "[5 rows x 38 columns]"
            ],
            "text/html": [
              "\n",
              "  <div id=\"df-2e4a454c-700f-499c-b5f5-f52b8463c83f\" class=\"colab-df-container\">\n",
              "    <div>\n",
              "<style scoped>\n",
              "    .dataframe tbody tr th:only-of-type {\n",
              "        vertical-align: middle;\n",
              "    }\n",
              "\n",
              "    .dataframe tbody tr th {\n",
              "        vertical-align: top;\n",
              "    }\n",
              "\n",
              "    .dataframe thead th {\n",
              "        text-align: right;\n",
              "    }\n",
              "</style>\n",
              "<table border=\"1\" class=\"dataframe\">\n",
              "  <thead>\n",
              "    <tr style=\"text-align: right;\">\n",
              "      <th></th>\n",
              "      <th>age</th>\n",
              "      <th>sex</th>\n",
              "      <th>dzgroup</th>\n",
              "      <th>dzclass</th>\n",
              "      <th>num.co</th>\n",
              "      <th>edu</th>\n",
              "      <th>income</th>\n",
              "      <th>scoma</th>\n",
              "      <th>charges</th>\n",
              "      <th>totcst</th>\n",
              "      <th>...</th>\n",
              "      <th>bili</th>\n",
              "      <th>crea</th>\n",
              "      <th>sod</th>\n",
              "      <th>ph</th>\n",
              "      <th>bun</th>\n",
              "      <th>adls</th>\n",
              "      <th>adlsc</th>\n",
              "      <th>death</th>\n",
              "      <th>hospdead</th>\n",
              "      <th>sfdm2</th>\n",
              "    </tr>\n",
              "  </thead>\n",
              "  <tbody>\n",
              "    <tr>\n",
              "      <th>0</th>\n",
              "      <td>0.517656</td>\n",
              "      <td>0.0</td>\n",
              "      <td>0.0</td>\n",
              "      <td>0.0</td>\n",
              "      <td>0.000000</td>\n",
              "      <td>0.4375</td>\n",
              "      <td>0.0</td>\n",
              "      <td>0.0</td>\n",
              "      <td>0.058686</td>\n",
              "      <td>NaN</td>\n",
              "      <td>...</td>\n",
              "      <td>0.026314</td>\n",
              "      <td>0.343758</td>\n",
              "      <td>0.629630</td>\n",
              "      <td>0.600559</td>\n",
              "      <td>NaN</td>\n",
              "      <td>1.000000</td>\n",
              "      <td>0.989645</td>\n",
              "      <td>0.0</td>\n",
              "      <td>0.0</td>\n",
              "      <td>0.0</td>\n",
              "    </tr>\n",
              "    <tr>\n",
              "      <th>1</th>\n",
              "      <td>0.486599</td>\n",
              "      <td>0.0</td>\n",
              "      <td>0.0</td>\n",
              "      <td>0.0</td>\n",
              "      <td>0.333333</td>\n",
              "      <td>0.5000</td>\n",
              "      <td>0.0</td>\n",
              "      <td>NaN</td>\n",
              "      <td>0.228858</td>\n",
              "      <td>NaN</td>\n",
              "      <td>...</td>\n",
              "      <td>NaN</td>\n",
              "      <td>NaN</td>\n",
              "      <td>0.296296</td>\n",
              "      <td>0.000000</td>\n",
              "      <td>NaN</td>\n",
              "      <td>0.142857</td>\n",
              "      <td>0.141378</td>\n",
              "      <td>1.0</td>\n",
              "      <td>1.0</td>\n",
              "      <td>0.0</td>\n",
              "    </tr>\n",
              "    <tr>\n",
              "      <th>2</th>\n",
              "      <td>0.392698</td>\n",
              "      <td>0.0</td>\n",
              "      <td>0.0</td>\n",
              "      <td>0.0</td>\n",
              "      <td>0.333333</td>\n",
              "      <td>0.5000</td>\n",
              "      <td>0.0</td>\n",
              "      <td>0.0</td>\n",
              "      <td>0.274167</td>\n",
              "      <td>NaN</td>\n",
              "      <td>...</td>\n",
              "      <td>0.552570</td>\n",
              "      <td>0.593787</td>\n",
              "      <td>0.370370</td>\n",
              "      <td>0.600559</td>\n",
              "      <td>NaN</td>\n",
              "      <td>0.000000</td>\n",
              "      <td>0.000000</td>\n",
              "      <td>1.0</td>\n",
              "      <td>0.0</td>\n",
              "      <td>0.0</td>\n",
              "    </tr>\n",
              "    <tr>\n",
              "      <th>3</th>\n",
              "      <td>0.264536</td>\n",
              "      <td>0.0</td>\n",
              "      <td>0.0</td>\n",
              "      <td>0.0</td>\n",
              "      <td>0.333333</td>\n",
              "      <td>0.4375</td>\n",
              "      <td>0.0</td>\n",
              "      <td>0.0</td>\n",
              "      <td>0.013089</td>\n",
              "      <td>NaN</td>\n",
              "      <td>...</td>\n",
              "      <td>NaN</td>\n",
              "      <td>0.218743</td>\n",
              "      <td>0.555556</td>\n",
              "      <td>NaN</td>\n",
              "      <td>NaN</td>\n",
              "      <td>0.000000</td>\n",
              "      <td>0.000000</td>\n",
              "      <td>1.0</td>\n",
              "      <td>0.0</td>\n",
              "      <td>0.0</td>\n",
              "    </tr>\n",
              "    <tr>\n",
              "      <th>4</th>\n",
              "      <td>0.728352</td>\n",
              "      <td>0.0</td>\n",
              "      <td>0.0</td>\n",
              "      <td>0.0</td>\n",
              "      <td>0.166667</td>\n",
              "      <td>NaN</td>\n",
              "      <td>0.0</td>\n",
              "      <td>NaN</td>\n",
              "      <td>0.336197</td>\n",
              "      <td>NaN</td>\n",
              "      <td>...</td>\n",
              "      <td>NaN</td>\n",
              "      <td>0.218743</td>\n",
              "      <td>0.703704</td>\n",
              "      <td>0.743019</td>\n",
              "      <td>NaN</td>\n",
              "      <td>0.285714</td>\n",
              "      <td>0.282756</td>\n",
              "      <td>0.0</td>\n",
              "      <td>0.0</td>\n",
              "      <td>0.0</td>\n",
              "    </tr>\n",
              "  </tbody>\n",
              "</table>\n",
              "<p>5 rows × 38 columns</p>\n",
              "</div>\n",
              "    <div class=\"colab-df-buttons\">\n",
              "\n",
              "  <div class=\"colab-df-container\">\n",
              "    <button class=\"colab-df-convert\" onclick=\"convertToInteractive('df-2e4a454c-700f-499c-b5f5-f52b8463c83f')\"\n",
              "            title=\"Convert this dataframe to an interactive table.\"\n",
              "            style=\"display:none;\">\n",
              "\n",
              "  <svg xmlns=\"http://www.w3.org/2000/svg\" height=\"24px\" viewBox=\"0 -960 960 960\">\n",
              "    <path d=\"M120-120v-720h720v720H120Zm60-500h600v-160H180v160Zm220 220h160v-160H400v160Zm0 220h160v-160H400v160ZM180-400h160v-160H180v160Zm440 0h160v-160H620v160ZM180-180h160v-160H180v160Zm440 0h160v-160H620v160Z\"/>\n",
              "  </svg>\n",
              "    </button>\n",
              "\n",
              "  <style>\n",
              "    .colab-df-container {\n",
              "      display:flex;\n",
              "      gap: 12px;\n",
              "    }\n",
              "\n",
              "    .colab-df-convert {\n",
              "      background-color: #E8F0FE;\n",
              "      border: none;\n",
              "      border-radius: 50%;\n",
              "      cursor: pointer;\n",
              "      display: none;\n",
              "      fill: #1967D2;\n",
              "      height: 32px;\n",
              "      padding: 0 0 0 0;\n",
              "      width: 32px;\n",
              "    }\n",
              "\n",
              "    .colab-df-convert:hover {\n",
              "      background-color: #E2EBFA;\n",
              "      box-shadow: 0px 1px 2px rgba(60, 64, 67, 0.3), 0px 1px 3px 1px rgba(60, 64, 67, 0.15);\n",
              "      fill: #174EA6;\n",
              "    }\n",
              "\n",
              "    .colab-df-buttons div {\n",
              "      margin-bottom: 4px;\n",
              "    }\n",
              "\n",
              "    [theme=dark] .colab-df-convert {\n",
              "      background-color: #3B4455;\n",
              "      fill: #D2E3FC;\n",
              "    }\n",
              "\n",
              "    [theme=dark] .colab-df-convert:hover {\n",
              "      background-color: #434B5C;\n",
              "      box-shadow: 0px 1px 3px 1px rgba(0, 0, 0, 0.15);\n",
              "      filter: drop-shadow(0px 1px 2px rgba(0, 0, 0, 0.3));\n",
              "      fill: #FFFFFF;\n",
              "    }\n",
              "  </style>\n",
              "\n",
              "    <script>\n",
              "      const buttonEl =\n",
              "        document.querySelector('#df-2e4a454c-700f-499c-b5f5-f52b8463c83f button.colab-df-convert');\n",
              "      buttonEl.style.display =\n",
              "        google.colab.kernel.accessAllowed ? 'block' : 'none';\n",
              "\n",
              "      async function convertToInteractive(key) {\n",
              "        const element = document.querySelector('#df-2e4a454c-700f-499c-b5f5-f52b8463c83f');\n",
              "        const dataTable =\n",
              "          await google.colab.kernel.invokeFunction('convertToInteractive',\n",
              "                                                    [key], {});\n",
              "        if (!dataTable) return;\n",
              "\n",
              "        const docLinkHtml = 'Like what you see? Visit the ' +\n",
              "          '<a target=\"_blank\" href=https://colab.research.google.com/notebooks/data_table.ipynb>data table notebook</a>'\n",
              "          + ' to learn more about interactive tables.';\n",
              "        element.innerHTML = '';\n",
              "        dataTable['output_type'] = 'display_data';\n",
              "        await google.colab.output.renderOutput(dataTable, element);\n",
              "        const docLink = document.createElement('div');\n",
              "        docLink.innerHTML = docLinkHtml;\n",
              "        element.appendChild(docLink);\n",
              "      }\n",
              "    </script>\n",
              "  </div>\n",
              "\n",
              "\n",
              "<div id=\"df-7909652f-0732-44b5-adc7-0617501e3408\">\n",
              "  <button class=\"colab-df-quickchart\" onclick=\"quickchart('df-7909652f-0732-44b5-adc7-0617501e3408')\"\n",
              "            title=\"Suggest charts\"\n",
              "            style=\"display:none;\">\n",
              "\n",
              "<svg xmlns=\"http://www.w3.org/2000/svg\" height=\"24px\"viewBox=\"0 0 24 24\"\n",
              "     width=\"24px\">\n",
              "    <g>\n",
              "        <path d=\"M19 3H5c-1.1 0-2 .9-2 2v14c0 1.1.9 2 2 2h14c1.1 0 2-.9 2-2V5c0-1.1-.9-2-2-2zM9 17H7v-7h2v7zm4 0h-2V7h2v10zm4 0h-2v-4h2v4z\"/>\n",
              "    </g>\n",
              "</svg>\n",
              "  </button>\n",
              "\n",
              "<style>\n",
              "  .colab-df-quickchart {\n",
              "      --bg-color: #E8F0FE;\n",
              "      --fill-color: #1967D2;\n",
              "      --hover-bg-color: #E2EBFA;\n",
              "      --hover-fill-color: #174EA6;\n",
              "      --disabled-fill-color: #AAA;\n",
              "      --disabled-bg-color: #DDD;\n",
              "  }\n",
              "\n",
              "  [theme=dark] .colab-df-quickchart {\n",
              "      --bg-color: #3B4455;\n",
              "      --fill-color: #D2E3FC;\n",
              "      --hover-bg-color: #434B5C;\n",
              "      --hover-fill-color: #FFFFFF;\n",
              "      --disabled-bg-color: #3B4455;\n",
              "      --disabled-fill-color: #666;\n",
              "  }\n",
              "\n",
              "  .colab-df-quickchart {\n",
              "    background-color: var(--bg-color);\n",
              "    border: none;\n",
              "    border-radius: 50%;\n",
              "    cursor: pointer;\n",
              "    display: none;\n",
              "    fill: var(--fill-color);\n",
              "    height: 32px;\n",
              "    padding: 0;\n",
              "    width: 32px;\n",
              "  }\n",
              "\n",
              "  .colab-df-quickchart:hover {\n",
              "    background-color: var(--hover-bg-color);\n",
              "    box-shadow: 0 1px 2px rgba(60, 64, 67, 0.3), 0 1px 3px 1px rgba(60, 64, 67, 0.15);\n",
              "    fill: var(--button-hover-fill-color);\n",
              "  }\n",
              "\n",
              "  .colab-df-quickchart-complete:disabled,\n",
              "  .colab-df-quickchart-complete:disabled:hover {\n",
              "    background-color: var(--disabled-bg-color);\n",
              "    fill: var(--disabled-fill-color);\n",
              "    box-shadow: none;\n",
              "  }\n",
              "\n",
              "  .colab-df-spinner {\n",
              "    border: 2px solid var(--fill-color);\n",
              "    border-color: transparent;\n",
              "    border-bottom-color: var(--fill-color);\n",
              "    animation:\n",
              "      spin 1s steps(1) infinite;\n",
              "  }\n",
              "\n",
              "  @keyframes spin {\n",
              "    0% {\n",
              "      border-color: transparent;\n",
              "      border-bottom-color: var(--fill-color);\n",
              "      border-left-color: var(--fill-color);\n",
              "    }\n",
              "    20% {\n",
              "      border-color: transparent;\n",
              "      border-left-color: var(--fill-color);\n",
              "      border-top-color: var(--fill-color);\n",
              "    }\n",
              "    30% {\n",
              "      border-color: transparent;\n",
              "      border-left-color: var(--fill-color);\n",
              "      border-top-color: var(--fill-color);\n",
              "      border-right-color: var(--fill-color);\n",
              "    }\n",
              "    40% {\n",
              "      border-color: transparent;\n",
              "      border-right-color: var(--fill-color);\n",
              "      border-top-color: var(--fill-color);\n",
              "    }\n",
              "    60% {\n",
              "      border-color: transparent;\n",
              "      border-right-color: var(--fill-color);\n",
              "    }\n",
              "    80% {\n",
              "      border-color: transparent;\n",
              "      border-right-color: var(--fill-color);\n",
              "      border-bottom-color: var(--fill-color);\n",
              "    }\n",
              "    90% {\n",
              "      border-color: transparent;\n",
              "      border-bottom-color: var(--fill-color);\n",
              "    }\n",
              "  }\n",
              "</style>\n",
              "\n",
              "  <script>\n",
              "    async function quickchart(key) {\n",
              "      const quickchartButtonEl =\n",
              "        document.querySelector('#' + key + ' button');\n",
              "      quickchartButtonEl.disabled = true;  // To prevent multiple clicks.\n",
              "      quickchartButtonEl.classList.add('colab-df-spinner');\n",
              "      try {\n",
              "        const charts = await google.colab.kernel.invokeFunction(\n",
              "            'suggestCharts', [key], {});\n",
              "      } catch (error) {\n",
              "        console.error('Error during call to suggestCharts:', error);\n",
              "      }\n",
              "      quickchartButtonEl.classList.remove('colab-df-spinner');\n",
              "      quickchartButtonEl.classList.add('colab-df-quickchart-complete');\n",
              "    }\n",
              "    (() => {\n",
              "      let quickchartButtonEl =\n",
              "        document.querySelector('#df-7909652f-0732-44b5-adc7-0617501e3408 button');\n",
              "      quickchartButtonEl.style.display =\n",
              "        google.colab.kernel.accessAllowed ? 'block' : 'none';\n",
              "    })();\n",
              "  </script>\n",
              "</div>\n",
              "\n",
              "    </div>\n",
              "  </div>\n"
            ],
            "application/vnd.google.colaboratory.intrinsic+json": {
              "type": "dataframe",
              "variable_name": "df_reduced"
            }
          },
          "metadata": {},
          "execution_count": 20
        }
      ]
    },
    {
      "cell_type": "markdown",
      "source": [
        "Histogram setelah transformasi"
      ],
      "metadata": {
        "id": "30650xQksccB"
      }
    },
    {
      "cell_type": "code",
      "source": [
        "df_transformed = df_cleaned.copy()  # Pastikan ini dataset yang sudah di-normalisasi\n",
        "\n",
        "df_transformed.hist(figsize=(15, 10), bins=30, color=\"mediumseagreen\", edgecolor=\"black\")\n",
        "plt.suptitle(\"Distribusi Data Numerik (Setelah Transformation)\", fontsize=14)\n",
        "plt.show()"
      ],
      "metadata": {
        "colab": {
          "base_uri": "https://localhost:8080/",
          "height": 0
        },
        "id": "F6-lOKzrsQjk",
        "outputId": "64835874-b059-40bf-aa3b-8ab00ea80e30"
      },
      "execution_count": 21,
      "outputs": [
        {
          "output_type": "display_data",
          "data": {
            "text/plain": [
              "<Figure size 1500x1000 with 36 Axes>"
            ],
            "image/png": "[encoded data removed]"
          },
          "metadata": {}
        }
      ]
    },
    {
      "cell_type": "code",
      "source": [
        "print(\"Missing values di df_cleaned:\")\n",
        "print(df_cleaned.isnull().sum())\n",
        "\n",
        "print(\"\\nMissing values di df_reduced:\")\n",
        "print(df_reduced.isnull().sum())\n",
        "\n",
        "print(\"\\nTipe data di df_cleaned:\")\n",
        "print(df_cleaned.dtypes)\n",
        "\n",
        "print(\"\\nTipe data di df_reduced:\")\n",
        "print(df_reduced.dtypes)"
      ],
      "metadata": {
        "colab": {
          "base_uri": "https://localhost:8080/"
        },
        "id": "QXVadP_gmT6I",
        "outputId": "50afe8a5-efbb-4aa2-b9c4-84df39f9aab1"
      },
      "execution_count": 22,
      "outputs": [
        {
          "output_type": "stream",
          "name": "stdout",
          "text": [
            "Missing values di df_cleaned:\n",
            "age           56\n",
            "sex         9105\n",
            "dzgroup     9105\n",
            "dzclass     9105\n",
            "num.co        25\n",
            "edu         1833\n",
            "income      9105\n",
            "scoma       1956\n",
            "charges     1084\n",
            "totcst      1637\n",
            "avtisst      125\n",
            "race        9105\n",
            "sps          284\n",
            "aps          179\n",
            "surv2m       308\n",
            "surv6m         1\n",
            "hday        1543\n",
            "diabetes    1778\n",
            "dementia     296\n",
            "ca          9105\n",
            "prg2m       1649\n",
            "prg6m       1633\n",
            "dnr         9105\n",
            "dnrday       829\n",
            "meanbp         7\n",
            "wblc         611\n",
            "hrt           41\n",
            "resp         314\n",
            "temp          15\n",
            "pafi        2415\n",
            "bili        3527\n",
            "crea        1054\n",
            "sod          257\n",
            "ph          2544\n",
            "bun         4619\n",
            "adls        2867\n",
            "adlsc          0\n",
            "death          0\n",
            "hospdead       0\n",
            "sfdm2       9105\n",
            "dtype: int64\n",
            "\n",
            "Missing values di df_reduced:\n",
            "age           56\n",
            "sex            0\n",
            "dzgroup        0\n",
            "dzclass        0\n",
            "num.co        25\n",
            "edu         1833\n",
            "income         0\n",
            "scoma       1956\n",
            "charges     1084\n",
            "totcst      1637\n",
            "avtisst      125\n",
            "race           0\n",
            "sps          284\n",
            "aps          179\n",
            "hday        1543\n",
            "diabetes    1778\n",
            "dementia     296\n",
            "ca             0\n",
            "prg2m       1649\n",
            "prg6m       1633\n",
            "dnr            0\n",
            "dnrday       829\n",
            "meanbp         7\n",
            "wblc         611\n",
            "hrt           41\n",
            "resp         314\n",
            "temp          15\n",
            "pafi        2415\n",
            "bili        3527\n",
            "crea        1054\n",
            "sod          257\n",
            "ph          2544\n",
            "bun         4619\n",
            "adls        2867\n",
            "adlsc          0\n",
            "death          0\n",
            "hospdead       0\n",
            "sfdm2          0\n",
            "dtype: int64\n",
            "\n",
            "Tipe data di df_cleaned:\n",
            "age         float64\n",
            "sex          object\n",
            "dzgroup      object\n",
            "dzclass      object\n",
            "num.co      float64\n",
            "edu         float64\n",
            "income       object\n",
            "scoma       float64\n",
            "charges     float64\n",
            "totcst      float64\n",
            "avtisst     float64\n",
            "race         object\n",
            "sps         float64\n",
            "aps         float64\n",
            "surv2m      float64\n",
            "surv6m      float64\n",
            "hday        float64\n",
            "diabetes    float64\n",
            "dementia    float64\n",
            "ca           object\n",
            "prg2m       float64\n",
            "prg6m       float64\n",
            "dnr          object\n",
            "dnrday      float64\n",
            "meanbp      float64\n",
            "wblc        float64\n",
            "hrt         float64\n",
            "resp        float64\n",
            "temp        float64\n",
            "pafi        float64\n",
            "bili        float64\n",
            "crea        float64\n",
            "sod         float64\n",
            "ph          float64\n",
            "bun         float64\n",
            "adls        float64\n",
            "adlsc       float64\n",
            "death         int64\n",
            "hospdead      int64\n",
            "sfdm2        object\n",
            "dtype: object\n",
            "\n",
            "Tipe data di df_reduced:\n",
            "age         float64\n",
            "sex         float64\n",
            "dzgroup     float64\n",
            "dzclass     float64\n",
            "num.co      float64\n",
            "edu         float64\n",
            "income      float64\n",
            "scoma       float64\n",
            "charges     float64\n",
            "totcst      float64\n",
            "avtisst     float64\n",
            "race        float64\n",
            "sps         float64\n",
            "aps         float64\n",
            "hday        float64\n",
            "diabetes    float64\n",
            "dementia    float64\n",
            "ca          float64\n",
            "prg2m       float64\n",
            "prg6m       float64\n",
            "dnr         float64\n",
            "dnrday      float64\n",
            "meanbp      float64\n",
            "wblc        float64\n",
            "hrt         float64\n",
            "resp        float64\n",
            "temp        float64\n",
            "pafi        float64\n",
            "bili        float64\n",
            "crea        float64\n",
            "sod         float64\n",
            "ph          float64\n",
            "bun         float64\n",
            "adls        float64\n",
            "adlsc       float64\n",
            "death       float64\n",
            "hospdead    float64\n",
            "sfdm2       float64\n",
            "dtype: object\n"
          ]
        }
      ]
    },
    {
      "cell_type": "markdown",
      "source": [
        "Visualisasi perbandingan jumlah missing values antara dataset df_cleaned dan df_reduced"
      ],
      "metadata": {
        "id": "Iaz40ZJsy4u4"
      }
    },
    {
      "cell_type": "code",
      "source": [
        "import matplotlib.pyplot as plt\n",
        "import pandas as pd\n",
        "\n",
        "# Hitung missing values\n",
        "missing_cleaned = df_cleaned.isnull().sum()\n",
        "missing_reduced = df_reduced.isnull().sum()\n",
        "\n",
        "# Ambil kolom yang memiliki missing values\n",
        "missing_cleaned = missing_cleaned[missing_cleaned > 0]\n",
        "missing_reduced = missing_reduced[missing_reduced > 0]\n",
        "\n",
        "# Plot bar chart\n",
        "plt.figure(figsize=(12, 6))\n",
        "plt.bar(missing_cleaned.index, missing_cleaned.values, alpha=0.7, label=\"df_cleaned\", color=\"blue\")\n",
        "plt.bar(missing_reduced.index, missing_reduced.values, alpha=0.7, label=\"df_reduced\", color=\"orange\")\n",
        "plt.xticks(rotation=90)\n",
        "plt.ylabel(\"Jumlah Missing Values\")\n",
        "plt.title(\"Perbandingan Missing Values: df_cleaned vs df_reduced\")\n",
        "plt.legend()\n",
        "plt.show()"
      ],
      "metadata": {
        "colab": {
          "base_uri": "https://localhost:8080/",
          "height": 0
        },
        "id": "tztlQPqesp6h",
        "outputId": "79f86104-2f62-48b1-b625-3ec748ca7e2b"
      },
      "execution_count": 23,
      "outputs": [
        {
          "output_type": "display_data",
          "data": {
            "text/plain": [
              "<Figure size 1200x600 with 1 Axes>"
            ],
            "image/png": "[encoded data removed]"
          },
          "metadata": {}
        }
      ]
    },
    {
      "cell_type": "markdown",
      "source": [
        "Grafik ini menunjukkan perbandingan jumlah missing values antara df_cleaned (biru) dan df_reduced (oranye) untuk setiap kolom dalam dataset.  \n",
        "\n",
        "1. Kolom yang memiliki banyak missing values di `df_cleaned` terlihat beberapa kolom memiliki jumlah missing values yang sangat tinggi di `df_cleaned` (biru), contohnya **sex, dzgroup, dzclass, income, race, ca, dnr, sfdm2**. Jumlah missing values ini mencapai hampir 9000-an data yang menunjukkan banyaknya data yang hilang sebelum preprocessing.\n",
        "\n",
        "2. Pengurangan missing values di `df_reduced` terdapat warna oranye `df_reduced` yang menunjukkan missing values yang tersisa setelah preprocessing. Beberapa kolom yang awalnya memiliki missing values tinggi di `df_cleaned` sudah tidak memiliki missing values sama sekali di `df_reduced`(sex, dzgroup, dzclass, income, race, ca, dnr, sfdm2).  \n",
        "\n",
        "3. **Kolom yang masih memiliki missing values di `df_reduced`**  \n",
        "   - Beberapa kolom seperti **edu, scoma, charges, totcst, hday, diabetes, prg2m, prg6m, dnrday, pafi, bili, crea, sod, ph, bun, adls** masih memiliki missing values meskipun jumlahnya berkurang dibandingkan `df_cleaned`.  \n",
        "   - Artinya, preprocessing belum menghilangkan sepenuhnya missing values pada kolom-kolom tersebut.\n",
        "\n",
        "### **Kesimpulan**  \n",
        "- Proses **data reduction & cleaning** telah mengurangi jumlah missing values secara signifikan.  \n",
        "- Beberapa kolom sudah **bebas dari missing values** setelah proses preprocessing.  \n",
        "- Masih ada beberapa kolom dengan missing values di `df_reduced`, yang mungkin perlu ditangani lebih lanjut.  \n"
      ],
      "metadata": {
        "id": "DOZgXtOdU1i6"
      }
    },
    {
      "cell_type": "markdown",
      "source": [
        "Visualisasi tipe data dengan Bar Chart"
      ],
      "metadata": {
        "id": "lkJrZEd7yj-n"
      }
    },
    {
      "cell_type": "code",
      "source": [
        "dtype_cleaned = df_cleaned.dtypes.value_counts()\n",
        "dtype_reduced = df_reduced.dtypes.value_counts()\n",
        "\n",
        "dtype_df = pd.DataFrame({\"df_cleaned\": dtype_cleaned, \"df_reduced\": dtype_reduced}).fillna(0)\n",
        "\n",
        "dtype_df.plot(kind=\"bar\", figsize=(10, 5), color=[\"blue\", \"orange\"])\n",
        "plt.title(\"Perbandingan Jumlah Kolom Berdasarkan Tipe Data\")\n",
        "plt.ylabel(\"Jumlah Kolom\")\n",
        "plt.xlabel(\"Tipe Data\")\n",
        "plt.xticks(rotation=0)\n",
        "plt.legend(title=\"Dataset\")\n",
        "plt.show()"
      ],
      "metadata": {
        "colab": {
          "base_uri": "https://localhost:8080/",
          "height": 0
        },
        "id": "BtaF-51MswTa",
        "outputId": "be9b4542-4314-4030-ab92-51f1318b440f"
      },
      "execution_count": 24,
      "outputs": [
        {
          "output_type": "display_data",
          "data": {
            "text/plain": [
              "<Figure size 1000x500 with 1 Axes>"
            ],
            "image/png": "[encoded data removed]"
          },
          "metadata": {}
        }
      ]
    },
    {
      "cell_type": "markdown",
      "source": [
        "# KLASIFIKASI KNN"
      ],
      "metadata": {
        "id": "tnsaD1JAgyx9"
      }
    },
    {
      "cell_type": "code",
      "source": [
        "from sklearn.model_selection import train_test_split\n",
        "from sklearn.model_selection import GridSearchCV\n",
        "from sklearn.preprocessing import StandardScaler, LabelEncoder\n",
        "from sklearn.neighbors import KNeighborsClassifier\n",
        "from sklearn.metrics import classification_report, accuracy_score\n",
        "from sklearn.impute import SimpleImputer"
      ],
      "metadata": {
        "id": "fEQH0J4TheQG"
      },
      "execution_count": 25,
      "outputs": []
    },
    {
      "cell_type": "markdown",
      "source": [
        "Pisahkan fitur (X) dan target (y)"
      ],
      "metadata": {
        "id": "8O3at5_ATQBo"
      }
    },
    {
      "cell_type": "code",
      "source": [
        "X = df_reduced.drop('death', axis=1)\n",
        "y = df_reduced['death']"
      ],
      "metadata": {
        "id": "cc4GsPPChBnH"
      },
      "execution_count": 26,
      "outputs": []
    },
    {
      "cell_type": "markdown",
      "source": [
        "Encode fitur kategorikal"
      ],
      "metadata": {
        "id": "bWzxE7X1TMsk"
      }
    },
    {
      "cell_type": "code",
      "source": [
        "label_encoders = {}\n",
        "for column in X.select_dtypes(include=['object']).columns:\n",
        "    le = LabelEncoder()\n",
        "    X[column] = le.fit_transform(X[column])\n",
        "    label_encoders[column] = le\n",
        "\n",
        "le_target = LabelEncoder()\n",
        "y = le_target.fit_transform(y)"
      ],
      "metadata": {
        "id": "1huaI5VghD1t"
      },
      "execution_count": 27,
      "outputs": []
    },
    {
      "cell_type": "markdown",
      "source": [
        "Bagi data menjadi training dan testing set"
      ],
      "metadata": {
        "id": "oDvvWlqKTF2y"
      }
    },
    {
      "cell_type": "code",
      "source": [
        "X_train, X_test, y_train, y_test = train_test_split(X, y, test_size=0.2, random_state=42)"
      ],
      "metadata": {
        "id": "OqVIwt-ZhJA9"
      },
      "execution_count": 28,
      "outputs": []
    },
    {
      "cell_type": "markdown",
      "source": [
        "Handling missing values sebelum normalisasi"
      ],
      "metadata": {
        "id": "2eHJnMcTTCxu"
      }
    },
    {
      "cell_type": "code",
      "source": [
        "imputer = SimpleImputer(strategy='mean')\n",
        "X_train = imputer.fit_transform(X_train)\n",
        "X_test = imputer.transform(X_test)"
      ],
      "metadata": {
        "id": "0ItwDx5DhMg6"
      },
      "execution_count": 29,
      "outputs": []
    },
    {
      "cell_type": "markdown",
      "source": [
        "Normalisasi data numerik"
      ],
      "metadata": {
        "id": "45F1TMKqS93-"
      }
    },
    {
      "cell_type": "code",
      "source": [
        "scaler = StandardScaler()\n",
        "X_train = scaler.fit_transform(X_train)\n",
        "X_test = scaler.transform(X_test)"
      ],
      "metadata": {
        "id": "4j_y1lmVhRAf"
      },
      "execution_count": 30,
      "outputs": []
    },
    {
      "cell_type": "markdown",
      "source": [
        "Hyperparameter Tuning dengan GridSearchCV"
      ],
      "metadata": {
        "id": "Q-tCxSz6TvSL"
      }
    },
    {
      "cell_type": "code",
      "source": [
        "param_grid = {'n_neighbors': range(1,5)}\n",
        "grid_search = GridSearchCV(KNeighborsClassifier(), param_grid, cv=5, scoring='accuracy')\n",
        "grid_search.fit(X_train, y_train)"
      ],
      "metadata": {
        "colab": {
          "base_uri": "https://localhost:8080/",
          "height": 165
        },
        "id": "zRvj4LRthV01",
        "outputId": "85dadbf8-b3ba-427e-bc70-e3ab437b73a6"
      },
      "execution_count": 34,
      "outputs": [
        {
          "output_type": "execute_result",
          "data": {
            "text/plain": [
              "GridSearchCV(cv=5, estimator=KNeighborsClassifier(),\n",
              "             param_grid={'n_neighbors': range(1, 5)}, scoring='accuracy')"
            ],
            "text/html": [
              "<style>#sk-container-id-2 {\n",
              "  /* Definition of color scheme common for light and dark mode */\n",
              "  --sklearn-color-text: #000;\n",
              "  --sklearn-color-text-muted: #666;\n",
              "  --sklearn-color-line: gray;\n",
              "  /* Definition of color scheme for unfitted estimators */\n",
              "  --sklearn-color-unfitted-level-0: #fff5e6;\n",
              "  --sklearn-color-unfitted-level-1: #f6e4d2;\n",
              "  --sklearn-color-unfitted-level-2: #ffe0b3;\n",
              "  --sklearn-color-unfitted-level-3: chocolate;\n",
              "  /* Definition of color scheme for fitted estimators */\n",
              "  --sklearn-color-fitted-level-0: #f0f8ff;\n",
              "  --sklearn-color-fitted-level-1: #d4ebff;\n",
              "  --sklearn-color-fitted-level-2: #b3dbfd;\n",
              "  --sklearn-color-fitted-level-3: cornflowerblue;\n",
              "\n",
              "  /* Specific color for light theme */\n",
              "  --sklearn-color-text-on-default-background: var(--sg-text-color, var(--theme-code-foreground, var(--jp-content-font-color1, black)));\n",
              "  --sklearn-color-background: var(--sg-background-color, var(--theme-background, var(--jp-layout-color0, white)));\n",
              "  --sklearn-color-border-box: var(--sg-text-color, var(--theme-code-foreground, var(--jp-content-font-color1, black)));\n",
              "  --sklearn-color-icon: #696969;\n",
              "\n",
              "  @media (prefers-color-scheme: dark) {\n",
              "    /* Redefinition of color scheme for dark theme */\n",
              "    --sklearn-color-text-on-default-background: var(--sg-text-color, var(--theme-code-foreground, var(--jp-content-font-color1, white)));\n",
              "    --sklearn-color-background: var(--sg-background-color, var(--theme-background, var(--jp-layout-color0, #111)));\n",
              "    --sklearn-color-border-box: var(--sg-text-color, var(--theme-code-foreground, var(--jp-content-font-color1, white)));\n",
              "    --sklearn-color-icon: #878787;\n",
              "  }\n",
              "}\n",
              "\n",
              "#sk-container-id-2 {\n",
              "  color: var(--sklearn-color-text);\n",
              "}\n",
              "\n",
              "#sk-container-id-2 pre {\n",
              "  padding: 0;\n",
              "}\n",
              "\n",
              "#sk-container-id-2 input.sk-hidden--visually {\n",
              "  border: 0;\n",
              "  clip: rect(1px 1px 1px 1px);\n",
              "  clip: rect(1px, 1px, 1px, 1px);\n",
              "  height: 1px;\n",
              "  margin: -1px;\n",
              "  overflow: hidden;\n",
              "  padding: 0;\n",
              "  position: absolute;\n",
              "  width: 1px;\n",
              "}\n",
              "\n",
              "#sk-container-id-2 div.sk-dashed-wrapped {\n",
              "  border: 1px dashed var(--sklearn-color-line);\n",
              "  margin: 0 0.4em 0.5em 0.4em;\n",
              "  box-sizing: border-box;\n",
              "  padding-bottom: 0.4em;\n",
              "  background-color: var(--sklearn-color-background);\n",
              "}\n",
              "\n",
              "#sk-container-id-2 div.sk-container {\n",
              "  /* jupyter's `normalize.less` sets `[hidden] { display: none; }`\n",
              "     but bootstrap.min.css set `[hidden] { display: none !important; }`\n",
              "     so we also need the `!important` here to be able to override the\n",
              "     default hidden behavior on the sphinx rendered scikit-learn.org.\n",
              "     See: https://github.com/scikit-learn/scikit-learn/issues/21755 */\n",
              "  display: inline-block !important;\n",
              "  position: relative;\n",
              "}\n",
              "\n",
              "#sk-container-id-2 div.sk-text-repr-fallback {\n",
              "  display: none;\n",
              "}\n",
              "\n",
              "div.sk-parallel-item,\n",
              "div.sk-serial,\n",
              "div.sk-item {\n",
              "  /* draw centered vertical line to link estimators */\n",
              "  background-image: linear-gradient(var(--sklearn-color-text-on-default-background), var(--sklearn-color-text-on-default-background));\n",
              "  background-size: 2px 100%;\n",
              "  background-repeat: no-repeat;\n",
              "  background-position: center center;\n",
              "}\n",
              "\n",
              "/* Parallel-specific style estimator block */\n",
              "\n",
              "#sk-container-id-2 div.sk-parallel-item::after {\n",
              "  content: \"\";\n",
              "  width: 100%;\n",
              "  border-bottom: 2px solid var(--sklearn-color-text-on-default-background);\n",
              "  flex-grow: 1;\n",
              "}\n",
              "\n",
              "#sk-container-id-2 div.sk-parallel {\n",
              "  display: flex;\n",
              "  align-items: stretch;\n",
              "  justify-content: center;\n",
              "  background-color: var(--sklearn-color-background);\n",
              "  position: relative;\n",
              "}\n",
              "\n",
              "#sk-container-id-2 div.sk-parallel-item {\n",
              "  display: flex;\n",
              "  flex-direction: column;\n",
              "}\n",
              "\n",
              "#sk-container-id-2 div.sk-parallel-item:first-child::after {\n",
              "  align-self: flex-end;\n",
              "  width: 50%;\n",
              "}\n",
              "\n",
              "#sk-container-id-2 div.sk-parallel-item:last-child::after {\n",
              "  align-self: flex-start;\n",
              "  width: 50%;\n",
              "}\n",
              "\n",
              "#sk-container-id-2 div.sk-parallel-item:only-child::after {\n",
              "  width: 0;\n",
              "}\n",
              "\n",
              "/* Serial-specific style estimator block */\n",
              "\n",
              "#sk-container-id-2 div.sk-serial {\n",
              "  display: flex;\n",
              "  flex-direction: column;\n",
              "  align-items: center;\n",
              "  background-color: var(--sklearn-color-background);\n",
              "  padding-right: 1em;\n",
              "  padding-left: 1em;\n",
              "}\n",
              "\n",
              "\n",
              "/* Toggleable style: style used for estimator/Pipeline/ColumnTransformer box that is\n",
              "clickable and can be expanded/collapsed.\n",
              "- Pipeline and ColumnTransformer use this feature and define the default style\n",
              "- Estimators will overwrite some part of the style using the `sk-estimator` class\n",
              "*/\n",
              "\n",
              "/* Pipeline and ColumnTransformer style (default) */\n",
              "\n",
              "#sk-container-id-2 div.sk-toggleable {\n",
              "  /* Default theme specific background. It is overwritten whether we have a\n",
              "  specific estimator or a Pipeline/ColumnTransformer */\n",
              "  background-color: var(--sklearn-color-background);\n",
              "}\n",
              "\n",
              "/* Toggleable label */\n",
              "#sk-container-id-2 label.sk-toggleable__label {\n",
              "  cursor: pointer;\n",
              "  display: flex;\n",
              "  width: 100%;\n",
              "  margin-bottom: 0;\n",
              "  padding: 0.5em;\n",
              "  box-sizing: border-box;\n",
              "  text-align: center;\n",
              "  align-items: start;\n",
              "  justify-content: space-between;\n",
              "  gap: 0.5em;\n",
              "}\n",
              "\n",
              "#sk-container-id-2 label.sk-toggleable__label .caption {\n",
              "  font-size: 0.6rem;\n",
              "  font-weight: lighter;\n",
              "  color: var(--sklearn-color-text-muted);\n",
              "}\n",
              "\n",
              "#sk-container-id-2 label.sk-toggleable__label-arrow:before {\n",
              "  /* Arrow on the left of the label */\n",
              "  content: \"▸\";\n",
              "  float: left;\n",
              "  margin-right: 0.25em;\n",
              "  color: var(--sklearn-color-icon);\n",
              "}\n",
              "\n",
              "#sk-container-id-2 label.sk-toggleable__label-arrow:hover:before {\n",
              "  color: var(--sklearn-color-text);\n",
              "}\n",
              "\n",
              "/* Toggleable content - dropdown */\n",
              "\n",
              "#sk-container-id-2 div.sk-toggleable__content {\n",
              "  max-height: 0;\n",
              "  max-width: 0;\n",
              "  overflow: hidden;\n",
              "  text-align: left;\n",
              "  /* unfitted */\n",
              "  background-color: var(--sklearn-color-unfitted-level-0);\n",
              "}\n",
              "\n",
              "#sk-container-id-2 div.sk-toggleable__content.fitted {\n",
              "  /* fitted */\n",
              "  background-color: var(--sklearn-color-fitted-level-0);\n",
              "}\n",
              "\n",
              "#sk-container-id-2 div.sk-toggleable__content pre {\n",
              "  margin: 0.2em;\n",
              "  border-radius: 0.25em;\n",
              "  color: var(--sklearn-color-text);\n",
              "  /* unfitted */\n",
              "  background-color: var(--sklearn-color-unfitted-level-0);\n",
              "}\n",
              "\n",
              "#sk-container-id-2 div.sk-toggleable__content.fitted pre {\n",
              "  /* unfitted */\n",
              "  background-color: var(--sklearn-color-fitted-level-0);\n",
              "}\n",
              "\n",
              "#sk-container-id-2 input.sk-toggleable__control:checked~div.sk-toggleable__content {\n",
              "  /* Expand drop-down */\n",
              "  max-height: 200px;\n",
              "  max-width: 100%;\n",
              "  overflow: auto;\n",
              "}\n",
              "\n",
              "#sk-container-id-2 input.sk-toggleable__control:checked~label.sk-toggleable__label-arrow:before {\n",
              "  content: \"▾\";\n",
              "}\n",
              "\n",
              "/* Pipeline/ColumnTransformer-specific style */\n",
              "\n",
              "#sk-container-id-2 div.sk-label input.sk-toggleable__control:checked~label.sk-toggleable__label {\n",
              "  color: var(--sklearn-color-text);\n",
              "  background-color: var(--sklearn-color-unfitted-level-2);\n",
              "}\n",
              "\n",
              "#sk-container-id-2 div.sk-label.fitted input.sk-toggleable__control:checked~label.sk-toggleable__label {\n",
              "  background-color: var(--sklearn-color-fitted-level-2);\n",
              "}\n",
              "\n",
              "/* Estimator-specific style */\n",
              "\n",
              "/* Colorize estimator box */\n",
              "#sk-container-id-2 div.sk-estimator input.sk-toggleable__control:checked~label.sk-toggleable__label {\n",
              "  /* unfitted */\n",
              "  background-color: var(--sklearn-color-unfitted-level-2);\n",
              "}\n",
              "\n",
              "#sk-container-id-2 div.sk-estimator.fitted input.sk-toggleable__control:checked~label.sk-toggleable__label {\n",
              "  /* fitted */\n",
              "  background-color: var(--sklearn-color-fitted-level-2);\n",
              "}\n",
              "\n",
              "#sk-container-id-2 div.sk-label label.sk-toggleable__label,\n",
              "#sk-container-id-2 div.sk-label label {\n",
              "  /* The background is the default theme color */\n",
              "  color: var(--sklearn-color-text-on-default-background);\n",
              "}\n",
              "\n",
              "/* On hover, darken the color of the background */\n",
              "#sk-container-id-2 div.sk-label:hover label.sk-toggleable__label {\n",
              "  color: var(--sklearn-color-text);\n",
              "  background-color: var(--sklearn-color-unfitted-level-2);\n",
              "}\n",
              "\n",
              "/* Label box, darken color on hover, fitted */\n",
              "#sk-container-id-2 div.sk-label.fitted:hover label.sk-toggleable__label.fitted {\n",
              "  color: var(--sklearn-color-text);\n",
              "  background-color: var(--sklearn-color-fitted-level-2);\n",
              "}\n",
              "\n",
              "/* Estimator label */\n",
              "\n",
              "#sk-container-id-2 div.sk-label label {\n",
              "  font-family: monospace;\n",
              "  font-weight: bold;\n",
              "  display: inline-block;\n",
              "  line-height: 1.2em;\n",
              "}\n",
              "\n",
              "#sk-container-id-2 div.sk-label-container {\n",
              "  text-align: center;\n",
              "}\n",
              "\n",
              "/* Estimator-specific */\n",
              "#sk-container-id-2 div.sk-estimator {\n",
              "  font-family: monospace;\n",
              "  border: 1px dotted var(--sklearn-color-border-box);\n",
              "  border-radius: 0.25em;\n",
              "  box-sizing: border-box;\n",
              "  margin-bottom: 0.5em;\n",
              "  /* unfitted */\n",
              "  background-color: var(--sklearn-color-unfitted-level-0);\n",
              "}\n",
              "\n",
              "#sk-container-id-2 div.sk-estimator.fitted {\n",
              "  /* fitted */\n",
              "  background-color: var(--sklearn-color-fitted-level-0);\n",
              "}\n",
              "\n",
              "/* on hover */\n",
              "#sk-container-id-2 div.sk-estimator:hover {\n",
              "  /* unfitted */\n",
              "  background-color: var(--sklearn-color-unfitted-level-2);\n",
              "}\n",
              "\n",
              "#sk-container-id-2 div.sk-estimator.fitted:hover {\n",
              "  /* fitted */\n",
              "  background-color: var(--sklearn-color-fitted-level-2);\n",
              "}\n",
              "\n",
              "/* Specification for estimator info (e.g. \"i\" and \"?\") */\n",
              "\n",
              "/* Common style for \"i\" and \"?\" */\n",
              "\n",
              ".sk-estimator-doc-link,\n",
              "a:link.sk-estimator-doc-link,\n",
              "a:visited.sk-estimator-doc-link {\n",
              "  float: right;\n",
              "  font-size: smaller;\n",
              "  line-height: 1em;\n",
              "  font-family: monospace;\n",
              "  background-color: var(--sklearn-color-background);\n",
              "  border-radius: 1em;\n",
              "  height: 1em;\n",
              "  width: 1em;\n",
              "  text-decoration: none !important;\n",
              "  margin-left: 0.5em;\n",
              "  text-align: center;\n",
              "  /* unfitted */\n",
              "  border: var(--sklearn-color-unfitted-level-1) 1pt solid;\n",
              "  color: var(--sklearn-color-unfitted-level-1);\n",
              "}\n",
              "\n",
              ".sk-estimator-doc-link.fitted,\n",
              "a:link.sk-estimator-doc-link.fitted,\n",
              "a:visited.sk-estimator-doc-link.fitted {\n",
              "  /* fitted */\n",
              "  border: var(--sklearn-color-fitted-level-1) 1pt solid;\n",
              "  color: var(--sklearn-color-fitted-level-1);\n",
              "}\n",
              "\n",
              "/* On hover */\n",
              "div.sk-estimator:hover .sk-estimator-doc-link:hover,\n",
              ".sk-estimator-doc-link:hover,\n",
              "div.sk-label-container:hover .sk-estimator-doc-link:hover,\n",
              ".sk-estimator-doc-link:hover {\n",
              "  /* unfitted */\n",
              "  background-color: var(--sklearn-color-unfitted-level-3);\n",
              "  color: var(--sklearn-color-background);\n",
              "  text-decoration: none;\n",
              "}\n",
              "\n",
              "div.sk-estimator.fitted:hover .sk-estimator-doc-link.fitted:hover,\n",
              ".sk-estimator-doc-link.fitted:hover,\n",
              "div.sk-label-container:hover .sk-estimator-doc-link.fitted:hover,\n",
              ".sk-estimator-doc-link.fitted:hover {\n",
              "  /* fitted */\n",
              "  background-color: var(--sklearn-color-fitted-level-3);\n",
              "  color: var(--sklearn-color-background);\n",
              "  text-decoration: none;\n",
              "}\n",
              "\n",
              "/* Span, style for the box shown on hovering the info icon */\n",
              ".sk-estimator-doc-link span {\n",
              "  display: none;\n",
              "  z-index: 9999;\n",
              "  position: relative;\n",
              "  font-weight: normal;\n",
              "  right: .2ex;\n",
              "  padding: .5ex;\n",
              "  margin: .5ex;\n",
              "  width: min-content;\n",
              "  min-width: 20ex;\n",
              "  max-width: 50ex;\n",
              "  color: var(--sklearn-color-text);\n",
              "  box-shadow: 2pt 2pt 4pt #999;\n",
              "  /* unfitted */\n",
              "  background: var(--sklearn-color-unfitted-level-0);\n",
              "  border: .5pt solid var(--sklearn-color-unfitted-level-3);\n",
              "}\n",
              "\n",
              ".sk-estimator-doc-link.fitted span {\n",
              "  /* fitted */\n",
              "  background: var(--sklearn-color-fitted-level-0);\n",
              "  border: var(--sklearn-color-fitted-level-3);\n",
              "}\n",
              "\n",
              ".sk-estimator-doc-link:hover span {\n",
              "  display: block;\n",
              "}\n",
              "\n",
              "/* \"?\"-specific style due to the `<a>` HTML tag */\n",
              "\n",
              "#sk-container-id-2 a.estimator_doc_link {\n",
              "  float: right;\n",
              "  font-size: 1rem;\n",
              "  line-height: 1em;\n",
              "  font-family: monospace;\n",
              "  background-color: var(--sklearn-color-background);\n",
              "  border-radius: 1rem;\n",
              "  height: 1rem;\n",
              "  width: 1rem;\n",
              "  text-decoration: none;\n",
              "  /* unfitted */\n",
              "  color: var(--sklearn-color-unfitted-level-1);\n",
              "  border: var(--sklearn-color-unfitted-level-1) 1pt solid;\n",
              "}\n",
              "\n",
              "#sk-container-id-2 a.estimator_doc_link.fitted {\n",
              "  /* fitted */\n",
              "  border: var(--sklearn-color-fitted-level-1) 1pt solid;\n",
              "  color: var(--sklearn-color-fitted-level-1);\n",
              "}\n",
              "\n",
              "/* On hover */\n",
              "#sk-container-id-2 a.estimator_doc_link:hover {\n",
              "  /* unfitted */\n",
              "  background-color: var(--sklearn-color-unfitted-level-3);\n",
              "  color: var(--sklearn-color-background);\n",
              "  text-decoration: none;\n",
              "}\n",
              "\n",
              "#sk-container-id-2 a.estimator_doc_link.fitted:hover {\n",
              "  /* fitted */\n",
              "  background-color: var(--sklearn-color-fitted-level-3);\n",
              "}\n",
              "</style><div id=\"sk-container-id-2\" class=\"sk-top-container\"><div class=\"sk-text-repr-fallback\"><pre>GridSearchCV(cv=5, estimator=KNeighborsClassifier(),\n",
              "             param_grid={&#x27;n_neighbors&#x27;: range(1, 5)}, scoring=&#x27;accuracy&#x27;)</pre><b>In a Jupyter environment, please rerun this cell to show the HTML representation or trust the notebook. <br />On GitHub, the HTML representation is unable to render, please try loading this page with nbviewer.org.</b></div><div class=\"sk-container\" hidden><div class=\"sk-item sk-dashed-wrapped\"><div class=\"sk-label-container\"><div class=\"sk-label fitted sk-toggleable\"><input class=\"sk-toggleable__control sk-hidden--visually\" id=\"sk-estimator-id-4\" type=\"checkbox\" ><label for=\"sk-estimator-id-4\" class=\"sk-toggleable__label fitted sk-toggleable__label-arrow\"><div><div>GridSearchCV</div></div><div><a class=\"sk-estimator-doc-link fitted\" rel=\"noreferrer\" target=\"_blank\" href=\"https://scikit-learn.org/1.6/modules/generated/sklearn.model_selection.GridSearchCV.html\">?<span>Documentation for GridSearchCV</span></a><span class=\"sk-estimator-doc-link fitted\">i<span>Fitted</span></span></div></label><div class=\"sk-toggleable__content fitted\"><pre>GridSearchCV(cv=5, estimator=KNeighborsClassifier(),\n",
              "             param_grid={&#x27;n_neighbors&#x27;: range(1, 5)}, scoring=&#x27;accuracy&#x27;)</pre></div> </div></div><div class=\"sk-parallel\"><div class=\"sk-parallel-item\"><div class=\"sk-item\"><div class=\"sk-label-container\"><div class=\"sk-label fitted sk-toggleable\"><input class=\"sk-toggleable__control sk-hidden--visually\" id=\"sk-estimator-id-5\" type=\"checkbox\" ><label for=\"sk-estimator-id-5\" class=\"sk-toggleable__label fitted sk-toggleable__label-arrow\"><div><div>best_estimator_: KNeighborsClassifier</div></div></label><div class=\"sk-toggleable__content fitted\"><pre>KNeighborsClassifier(n_neighbors=3)</pre></div> </div></div><div class=\"sk-serial\"><div class=\"sk-item\"><div class=\"sk-estimator fitted sk-toggleable\"><input class=\"sk-toggleable__control sk-hidden--visually\" id=\"sk-estimator-id-6\" type=\"checkbox\" ><label for=\"sk-estimator-id-6\" class=\"sk-toggleable__label fitted sk-toggleable__label-arrow\"><div><div>KNeighborsClassifier</div></div><div><a class=\"sk-estimator-doc-link fitted\" rel=\"noreferrer\" target=\"_blank\" href=\"https://scikit-learn.org/1.6/modules/generated/sklearn.neighbors.KNeighborsClassifier.html\">?<span>Documentation for KNeighborsClassifier</span></a></div></label><div class=\"sk-toggleable__content fitted\"><pre>KNeighborsClassifier(n_neighbors=3)</pre></div> </div></div></div></div></div></div></div></div></div>"
            ]
          },
          "metadata": {},
          "execution_count": 34
        }
      ]
    },
    {
      "cell_type": "markdown",
      "source": [
        "Best Model"
      ],
      "metadata": {
        "id": "cnsnkzRjS13O"
      }
    },
    {
      "cell_type": "code",
      "source": [
        "best_knn = grid_search.best_estimator_\n",
        "y_pred = best_knn.predict(X_test)"
      ],
      "metadata": {
        "id": "EdPwC7zWhWa_"
      },
      "execution_count": 32,
      "outputs": []
    },
    {
      "cell_type": "markdown",
      "source": [
        "Evaluasi model"
      ],
      "metadata": {
        "id": "nHhEjJHUSxJx"
      }
    },
    {
      "cell_type": "code",
      "source": [
        "accuracy = accuracy_score(y_test, y_pred)\n",
        "print(f\"Akurasi Model KNN: {accuracy}\")\n",
        "print(classification_report(y_test, y_pred))"
      ],
      "metadata": {
        "colab": {
          "base_uri": "https://localhost:8080/"
        },
        "id": "j4kSma3phYWR",
        "outputId": "0c18ed99-1125-4dfe-bf40-5750390a45bd"
      },
      "execution_count": 33,
      "outputs": [
        {
          "output_type": "stream",
          "name": "stdout",
          "text": [
            "Akurasi Model KNN: 0.7347611202635914\n",
            "              precision    recall  f1-score   support\n",
            "\n",
            "           0       0.67      0.37      0.48       594\n",
            "           1       0.75      0.91      0.82      1227\n",
            "\n",
            "    accuracy                           0.73      1821\n",
            "   macro avg       0.71      0.64      0.65      1821\n",
            "weighted avg       0.72      0.73      0.71      1821\n",
            "\n"
          ]
        }
      ]
    }
  ]
}